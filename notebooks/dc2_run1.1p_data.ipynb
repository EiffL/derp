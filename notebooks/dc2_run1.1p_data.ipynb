{
 "cells": [
  {
   "cell_type": "markdown",
   "metadata": {},
   "source": [
    "# Preparing the DC2 Run 1.1p Data\n",
    "\n",
    "**Owner:** Phil Marshall (@drphilmarshall)\n",
    "\n",
    "**Last Run:** 2018-10-24 (by @drphilmarshall)\n",
    "\n",
    "**Goals:** Use the DC2 Run 1.1p truth catalog, and DRP Object table, to construct a design matrix `X` (from the truth table) and corresponding response variables `y` (from the DRP Object table).\n",
    "\n",
    "**Notes:** This notebook was made by adapting the following notebooks:\n",
    "* Scott Daniel's DC2 Tutorial [`truth_gcr_intro.ipynb`](https://github.com/LSSTDESC/DC2-analysis/blob/master/tutorials/truth_gcr_intro.ipynb)\n",
    "* Yao-Yuan Mao's DC2 Tutorial [`matching_fof.ipynb`](https://github.com/LSSTDESC/DC2-analysis/blob/master/tutorials/matching_fof.ipynb)\n",
    "\n",
    "To run this notebook, follow the instructions to setup Jupyter-dev at NERSC: https://confluence.slac.stanford.edu/x/1_ubDQ"
   ]
  },
  {
   "cell_type": "markdown",
   "metadata": {},
   "source": [
    "## Setup"
   ]
  },
  {
   "cell_type": "code",
   "execution_count": null,
   "metadata": {},
   "outputs": [],
   "source": [
    "# import packages and methods that will be used in this notebook\n",
    "\n",
    "import healpy\n",
    "import numpy as np\n",
    "import pandas as pd\n",
    "import GCRCatalogs\n",
    "from astropy.coordinates import SkyCoord\n",
    "import FoFCatalogMatching\n",
    "\n",
    "import matplotlib\n",
    "%matplotlib inline\n",
    "import matplotlib.pyplot as plt"
   ]
  },
  {
   "cell_type": "markdown",
   "metadata": {},
   "source": [
    "## Loading the Input Truth"
   ]
  },
  {
   "cell_type": "code",
   "execution_count": null,
   "metadata": {},
   "outputs": [],
   "source": [
    "# truth_catalog = GCRCatalogs.load_catalog('dc2_truth_run1.1_static')\n",
    "truth_catalog = GCRCatalogs.load_catalog('dc2_truth_run1.1', {'md5': None})"
   ]
  },
  {
   "cell_type": "markdown",
   "metadata": {},
   "source": [
    "You can list the quantities contained in the catalog using the same API as any other GCR-based catalog."
   ]
  },
  {
   "cell_type": "code",
   "execution_count": null,
   "metadata": {},
   "outputs": [],
   "source": [
    "all_true = truth_catalog.list_all_quantities(include_native=True)\n",
    "all_true"
   ]
  },
  {
   "cell_type": "markdown",
   "metadata": {},
   "source": [
    "The `get_quantity_info` method will give you access to descriptions of all of the native quantities in the catalog.  Note that the quantities `ugrizy` map directly to `mag_true_[ugrizy]'."
   ]
  },
  {
   "cell_type": "code",
   "execution_count": null,
   "metadata": {},
   "outputs": [],
   "source": [
    "for qty in all_true:\n",
    "    info_dict = truth_catalog.get_quantity_info(qty)\n",
    "    print(qty,info_dict)"
   ]
  },
  {
   "cell_type": "markdown",
   "metadata": {},
   "source": [
    "Let's define a small photometric and spatial subset to work with, just for demo purposes."
   ]
  },
  {
   "cell_type": "code",
   "execution_count": null,
   "metadata": {},
   "outputs": [],
   "source": [
    "some_true = ['u',\n",
    "             'g',\n",
    "             'r',\n",
    "             'i',\n",
    "             'z',\n",
    "             'y',\n",
    "             'ra',\n",
    "             'dec',\n",
    "             'star',\n",
    "             'object_id',\n",
    "             'redshift',\n",
    "             'healpix_2048'\n",
    "]\n",
    "\n",
    "print(len(some_true))"
   ]
  },
  {
   "cell_type": "markdown",
   "metadata": {},
   "source": [
    "We'll want to keep our training and test set small while developing, but then increase its size later. A good option for selecting a subset of objects is to filter by sky position, either relative to some reference point, or using the healpixellation.\n",
    "\n",
    "In the cells below, we will query the catalog for all of the bright stars and galaxies in a 0.2 degree disc centered on `RA=55.8`, `Dec=-28.8`.\n",
    "\n",
    "In the next cell, we will define some methods (`filter_on_healpix` and `filter_on_dist`) needed to make that selection.  These methods will be passed into the catalog's `get_quantities` method with the `filters` kwarg.  The methods should accept numpy arrays and return a numpy array of booleans indicating whether or not each object in the input arrays passed the test.\n",
    "\n",
    "We will use `healpy`'s `query_disc` method to find which healpixels overlap our region of interest."
   ]
  },
  {
   "cell_type": "code",
   "execution_count": null,
   "metadata": {},
   "outputs": [],
   "source": [
    "center_ra = 55.8\n",
    "center_dec = -28.8\n",
    "radius = 0.2\n",
    "\n",
    "ra_min, ra_max = center_ra - radius, center_ra + radius\n",
    "dec_min, dec_max = center_dec - radius, center_dec + radius\n",
    "\n",
    "center_ra_rad = np.radians(center_ra)\n",
    "center_dec_rad = np.radians(center_dec)\n",
    "\n",
    "center_vec = np.array([np.cos(center_dec_rad)*np.cos(center_ra_rad),\n",
    "                       np.cos(center_dec_rad)*np.sin(center_ra_rad),\n",
    "                       np.sin(center_dec_rad)])\n",
    "\n",
    "list_of_healpix = healpy.query_disc(2048, center_vec, np.radians(radius), nest=True, inclusive=True)\n",
    "\n",
    "def filter_on_healpix(hp):\n",
    "    return np.array([hh in list_of_healpix for hh in hp])\n",
    "\n",
    "def angularSeparation(ra, dec, center_ra, center_dec):\n",
    "    return SkyCoord(ra, dec, unit='deg').separation(SkyCoord(center_ra, center_dec, unit='deg')).deg\n",
    "\n",
    "def filter_on_dist(ra, dec):\n",
    "    return angularSeparation(ra, dec, center_ra, center_dec) < radius\n",
    "\n",
    "coord_filters = [\n",
    "    'ra >= {}'.format(ra_min),\n",
    "    'ra < {}'.format(ra_max),\n",
    "    'dec >= {}'.format(dec_min),\n",
    "    'dec < {}'.format(dec_max),\n",
    "]"
   ]
  },
  {
   "cell_type": "markdown",
   "metadata": {},
   "source": [
    "Now we let's query the catalog for all objects in the region of interest with magnitude `r<27.0`.  This query functions like any other GRC-based catalog query with one exception.  The truth catalog is ultimately stored as a sqlite database.  This means that all `native_filters` (filters applied directly to the catalog's native quantities), should be phrased as strings which could be inserted into an SQL `WHERE` clause.  Because the `native_filters` are applied when the quantities loaded into memory (as opposed to `filters`, which are applied after the quantities have been loaded), we want these to be as restrictive as possible so as to limit the memory consumption of the loaded catalog.  The sqlite databases are indexed on `star`, `agn`, `sprinkled`, `healpix_2048` and `object_id`.\n",
    "\n",
    "**Note:** We are aware that `nside==2048` healpixels may be too fine a resolution to helpfully limit the catalog query.  We are open to the idea of using a coarser resolution in future truth catalogs.\n",
    "\n",
    "After the coarse spatial limits applied by the `native_filter` on `healpix_2048`, we use the `filter_on_healpix` and `filter_on_dist` methods to actually get sources in our region of interest."
   ]
  },
  {
   "cell_type": "code",
   "execution_count": null,
   "metadata": {},
   "outputs": [],
   "source": [
    "true_objects = truth_catalog.get_quantities(some_true,\n",
    "                                            native_filters=['r<27.0',\n",
    "                                                            'healpix_2048<=%d' % list_of_healpix.max(),\n",
    "                                                            'healpix_2048>=%d' % list_of_healpix.min()],\n",
    "                                            filters=[(filter_on_healpix, 'healpix_2048')]+coord_filters)  \n",
    "                                            \n",
    "#                                            filters=[(filter_on_healpix, 'healpix_2048'),\n",
    "#                                                     (filter_on_dist, 'ra', 'dec')])"
   ]
  },
  {
   "cell_type": "code",
   "execution_count": null,
   "metadata": {},
   "outputs": [],
   "source": [
    "print(len(true_objects['ra']))"
   ]
  },
  {
   "cell_type": "code",
   "execution_count": null,
   "metadata": {},
   "outputs": [],
   "source": [
    "plt.scatter(true_objects['ra'], true_objects['dec'], alpha=0.01, color=\"blue\")\n",
    "plt.xlim(ra_max, ra_min)\n",
    "plt.ylim(dec_min, dec_max)\n",
    "plt.xlabel('RA / deg')\n",
    "plt.ylabel('Dec / deg');"
   ]
  },
  {
   "cell_type": "markdown",
   "metadata": {},
   "source": [
    "Now we will perform a similar spatial query for objects which were not added by the sprinkler (`sprinkled==0`) with magnitudes `r<27`.\n",
    "\n",
    "> Nb: \"the sprinkler\" is a piece of code used to add an extra population of AGN and supernovae into the Utral Deep Drilling Field of DC2.  Objects added by the sprinkler will have no counterpart in the underlying protoDC2 extragalactic catalog, which is why we have added a `sprinkled` flag to the catalog."
   ]
  },
  {
   "cell_type": "code",
   "execution_count": null,
   "metadata": {},
   "outputs": [],
   "source": [
    "unsprinkled_true_objects = truth_catalog.get_quantities(some_true,\n",
    "                                                        native_filters=['sprinkled==0',\n",
    "                                                                           'r<27.0',\n",
    "                                                                           'healpix_2048<=%d' % list_of_healpix.max(),\n",
    "                                                                           'healpix_2048>=%d' % list_of_healpix.min()],\n",
    "                                                        filters=[(filter_on_healpix, 'healpix_2048'),\n",
    "                                                                 (filter_on_dist, 'ra', 'dec')])"
   ]
  },
  {
   "cell_type": "code",
   "execution_count": null,
   "metadata": {},
   "outputs": [],
   "source": [
    "print(len(unsprinkled_true_objects['ra']))"
   ]
  },
  {
   "cell_type": "markdown",
   "metadata": {},
   "source": [
    "Only a handful of objects in this 0.2 deg radius circular aperture have been sprinkled."
   ]
  },
  {
   "cell_type": "markdown",
   "metadata": {},
   "source": [
    "## Loading the Observed LSST Objects\n",
    "\n",
    "Now we need to load in a DRP Object table, so that we can (later) match its contents (spatially) to the input truth objects. We'll do this for just a single tract, no. 4850."
   ]
  },
  {
   "cell_type": "code",
   "execution_count": null,
   "metadata": {},
   "outputs": [],
   "source": [
    "observed_catalog = GCRCatalogs.load_catalog('dc2_coadd_run1.1p_tract4850')"
   ]
  },
  {
   "cell_type": "markdown",
   "metadata": {},
   "source": [
    "Let's first visually inspect the footprint of one tract of the coadd catalog.\n",
    "When `return_iterator` is turned on, the method `get_quantities` will return an \n",
    "iterator, and each element in the iterator will be the quantities we requested in \n",
    "different chunks of the dataset. \n",
    "\n",
    "For coadd catalogs, the different chunks happen to be different patches, \n",
    "resulting in a different color for each patch in the scatter plot below."
   ]
  },
  {
   "cell_type": "code",
   "execution_count": null,
   "metadata": {},
   "outputs": [],
   "source": [
    "all_observed = observed_catalog.list_all_quantities(include_native=True)\n",
    "len(all_observed)"
   ]
  },
  {
   "cell_type": "markdown",
   "metadata": {},
   "source": [
    "The object table contains a lot of quantities... Let's define a small photometric and spatial subset to use. We'll make this bigger than the truth subset though, because we expect to be emulating more quantities than we have truth values for, in general."
   ]
  },
  {
   "cell_type": "code",
   "execution_count": null,
   "metadata": {},
   "outputs": [],
   "source": [
    "sorted(all_observed[1300:1320])"
   ]
  },
  {
   "cell_type": "code",
   "execution_count": null,
   "metadata": {},
   "outputs": [],
   "source": [
    "some_observed = ['mag_u_cModel',\n",
    "                 'mag_g_cModel',\n",
    "                 'mag_r_cModel',\n",
    "                 'mag_i_cModel',\n",
    "                 'mag_z_cModel',\n",
    "                 'mag_y_cModel',\n",
    "                 'ra',\n",
    "                 'dec',\n",
    "                 'extendedness',\n",
    "                 'objectId',\n",
    "                 'ext_shapeHSM_HsmShapeRegauss_e1',\n",
    "                 'ext_shapeHSM_HsmShapeRegauss_e2',\n",
    "                 'ext_shapeHSM_HsmShapeRegauss_sigma',\n",
    "                 'u_modelfit_CModel_fracDev',\n",
    "                 'u_modelfit_CModel_flux',\n",
    "                 'g_modelfit_CModel_fracDev',\n",
    "                 'g_modelfit_CModel_flux',\n",
    "                 'r_modelfit_CModel_fracDev',\n",
    "                 'r_modelfit_CModel_flux',\n",
    "                 'i_modelfit_CModel_fracDev',\n",
    "                 'i_modelfit_CModel_flux',\n",
    "                 'z_modelfit_CModel_fracDev',\n",
    "                 'z_modelfit_CModel_flux',\n",
    "                 'y_modelfit_CModel_fracDev',\n",
    "                 'y_modelfit_CModel_flux'\n",
    "]\n",
    "\n",
    "print(len(some_observed))"
   ]
  },
  {
   "cell_type": "markdown",
   "metadata": {},
   "source": [
    "Let's choose a small RA and Dec range to do the matching so that it won't take too long! Let's also define a magnitude cut.\n",
    "\n",
    "> Nb. Recall that we selected objects in the truth catalog using the following circular aperture:\n",
    "```\n",
    "center_ra = 54.6\n",
    "center_dec = -28.0\n",
    "radius = 0.2\n",
    "```"
   ]
  },
  {
   "cell_type": "code",
   "execution_count": null,
   "metadata": {},
   "outputs": [],
   "source": [
    "mag_filters = [\n",
    "    (np.isfinite, 'mag_r_cModel'),\n",
    "    'mag_r_cModel < 27.0',\n",
    "]\n",
    "\n",
    "# For some reason this filter doesn't work, here.\n",
    "# coord_filters = [\n",
    "#     (filter_on_dist, 'ra', 'dec')\n",
    "# ]\n",
    "\n",
    "coord_filters = [\n",
    "    'ra >= {}'.format(ra_min),\n",
    "    'ra < {}'.format(ra_max),\n",
    "    'dec >= {}'.format(dec_min),\n",
    "    'dec < {}'.format(dec_max),\n",
    "]"
   ]
  },
  {
   "cell_type": "code",
   "execution_count": null,
   "metadata": {},
   "outputs": [],
   "source": [
    "# Load some observed quantities, using both of the filters we just defined. \n",
    "observed_objects = observed_catalog.get_quantities(some_observed, \n",
    "                                                filters=(mag_filters + coord_filters))"
   ]
  },
  {
   "cell_type": "code",
   "execution_count": null,
   "metadata": {},
   "outputs": [],
   "source": [
    "print(len(observed_objects['ra']))"
   ]
  },
  {
   "cell_type": "code",
   "execution_count": null,
   "metadata": {},
   "outputs": [],
   "source": [
    "plt.scatter(observed_objects['ra'], observed_objects['dec'], alpha=0.01, color=\"red\")\n",
    "plt.xlim(ra_max, ra_min)\n",
    "plt.ylim(dec_min, dec_max)\n",
    "plt.xlabel('RA / deg')\n",
    "plt.ylabel('Dec / deg');"
   ]
  },
  {
   "cell_type": "markdown",
   "metadata": {},
   "source": [
    "## Matching the True and Observed Objects\n",
    "\n",
    "We now have an array of observed object measurements, and an array of true object parameters: next we need to match them up, by position on the sky. \n",
    "\n",
    "`FoFCatalogMatching.match` takes a dictionary of catalogs to match, a friends-of-friends linking length. Because our \"catalog\" is not an astropy table or pandas dataframe, `len(truth_coord)` won't give the actual length of the table\n",
    "so we need to specify `catalog_len_getter` so that the code knows how to get the length of the catalog."
   ]
  },
  {
   "cell_type": "code",
   "execution_count": null,
   "metadata": {},
   "outputs": [],
   "source": [
    "results = FoFCatalogMatching.match(\n",
    "    catalog_dict={'truth': true_objects, 'observed': observed_objects},\n",
    "    linking_lengths=1.0,\n",
    "    catalog_len_getter=lambda x: len(x['ra']),\n",
    ")"
   ]
  },
  {
   "cell_type": "markdown",
   "metadata": {},
   "source": [
    "Now we want to count the number of truth and coadd objects *for each group*\n",
    "but instead of looping over groups, we can do this in a smart (and very fast) way. First we need to know which rows are from the truth catalog and which are from the coadd."
   ]
  },
  {
   "cell_type": "code",
   "execution_count": null,
   "metadata": {},
   "outputs": [],
   "source": [
    "truth_mask = results['catalog_key'] == 'truth'\n",
    "observed_mask = ~truth_mask\n",
    "\n",
    "# Then, np.bincount will give up the number of id occurrences \n",
    "# (like histogram but with integer input):\n",
    "n_groups = results['group_id'].max() + 1\n",
    "n_true = np.bincount(results['group_id'][truth_mask], minlength=n_groups)\n",
    "n_observed = np.bincount(results['group_id'][observed_mask], minlength=n_groups)\n",
    "\n",
    "# Now n_true and n_observed are the number of true/observed objects \n",
    "# in each group, and we want to make a 2d histogram of (n_true, n_observed). \n",
    "n_max = max(n_true.max(), n_observed.max()) + 1\n",
    "hist_2d = np.bincount(n_observed * n_max + n_true, minlength=n_max*n_max).reshape(n_max, n_max)\n",
    "\n",
    "plt.imshow(np.log10(hist_2d+1), extent=(-0.5, n_max-0.5, -0.5, n_max-0.5), origin='lower');\n",
    "plt.xlabel('Number of true objects');\n",
    "plt.ylabel('Number of observed objects');\n",
    "plt.colorbar(label=r'$\\log(N_{\\rm groups} \\, + \\, 1)$');"
   ]
  },
  {
   "cell_type": "code",
   "execution_count": null,
   "metadata": {},
   "outputs": [],
   "source": [
    "one_to_one = hist_2d[1,1]\n",
    "total = np.sum(hist_2d)\n",
    "print(one_to_one, \" out of \", total, \" FoF groups are 1-to-1 matches.\")"
   ]
  },
  {
   "cell_type": "markdown",
   "metadata": {},
   "source": [
    "About half of the FoF groups are 1-to-1 matches. Some of this is due to the mis-orientation between the healpixel we used to speed up the truth catalog pre-selection, but at 27th magnitude, there's also a lot of blending. "
   ]
  },
  {
   "cell_type": "markdown",
   "metadata": {},
   "source": [
    "## Formatting into `X` and `y`\n",
    "\n",
    "Now that we have a set of matched objects, we can reformat them into a design matrix `X` and the corresponding response variables `y`. We'll make these as simple `numpy` arrays."
   ]
  },
  {
   "cell_type": "markdown",
   "metadata": {},
   "source": [
    "Let's focus on the objects in the groups that have a 1-to-1 true/observed match. "
   ]
  },
  {
   "cell_type": "code",
   "execution_count": null,
   "metadata": {},
   "outputs": [],
   "source": [
    "one_to_one_group_mask = np.in1d(results['group_id'], np.flatnonzero((n_true == 1) & (n_observed == 1)))"
   ]
  },
  {
   "cell_type": "markdown",
   "metadata": {},
   "source": [
    "We need the row indices in the *original* truth/observed \n",
    "catalogs for those 1-to-1 groups."
   ]
  },
  {
   "cell_type": "code",
   "execution_count": null,
   "metadata": {},
   "outputs": [],
   "source": [
    "truth_idx = results['row_index'][one_to_one_group_mask & truth_mask]\n",
    "observed_idx = results['row_index'][one_to_one_group_mask & observed_mask]"
   ]
  },
  {
   "cell_type": "markdown",
   "metadata": {},
   "source": [
    "Now we can use these indices to pull out the data arrays, and make `pandas` data frames from them."
   ]
  },
  {
   "cell_type": "code",
   "execution_count": null,
   "metadata": {},
   "outputs": [],
   "source": [
    "true_matched = pd.DataFrame(true_objects).iloc[truth_idx].reset_index(drop=True)\n",
    "observed_matched = pd.DataFrame(observed_objects).iloc[observed_idx].reset_index(drop=True)"
   ]
  },
  {
   "cell_type": "code",
   "execution_count": null,
   "metadata": {},
   "outputs": [],
   "source": [
    "true_matched.head()"
   ]
  },
  {
   "cell_type": "code",
   "execution_count": null,
   "metadata": {},
   "outputs": [],
   "source": [
    "observed_matched.head()"
   ]
  },
  {
   "cell_type": "markdown",
   "metadata": {},
   "source": [
    "Any machine learning engine worth its salt must be able to accept `pandas.DataFrame` objects as input, both for `X` and `y`. So, lets finally associate the true catalog with the input design matrix `X`, and the observed catalog with the output response variables `y`. And then let's just double check the shape of the arrays."
   ]
  },
  {
   "cell_type": "code",
   "execution_count": null,
   "metadata": {},
   "outputs": [],
   "source": [
    "X, y = true_matched, observed_matched"
   ]
  },
  {
   "cell_type": "code",
   "execution_count": null,
   "metadata": {},
   "outputs": [],
   "source": [
    "X.shape, y.shape"
   ]
  },
  {
   "cell_type": "markdown",
   "metadata": {},
   "source": [
    "## Summary\n",
    "\n",
    "We loaded in the truth table and observed DRP Object table from Run 1.1p, and matched the objects in a small (0.4x0.4 degree) patch of sky. This gave as about 20k 1-to-1 matches, which we packaged up ready for machine learning training and testing. "
   ]
  },
  {
   "cell_type": "markdown",
   "metadata": {},
   "source": [
    "A good next step is given to us in the final section [`matching_fof.ipynb` DC2 tutorial](https://github.com/LSSTDESC/DC2-analysis/blob/master/tutorials/matching_fof.ipynb): joining to the extragalactic catalog that the truth table was made from, and bringing in some additional true object properties to better predict the observed properties. We'll leave that for another time."
   ]
  },
  {
   "cell_type": "markdown",
   "metadata": {},
   "source": [
    "## Appendix\n",
    "\n",
    "Let's re-do all of the above work using the `derp.Emulator`."
   ]
  },
  {
   "cell_type": "code",
   "execution_count": null,
   "metadata": {},
   "outputs": [],
   "source": [
    "import sys\n",
    "sys.path.insert(0, '/global/homes/p/pjm43/desc/derp')"
   ]
  },
  {
   "cell_type": "code",
   "execution_count": null,
   "metadata": {},
   "outputs": [],
   "source": [
    "import derp\n",
    "\n",
    "emulator = derp.Emulator()\n",
    "\n",
    "some_true = ['u','g','r','i','z','y','ra','dec','star','object_id','redshift','healpix_2048']\n",
    "some_observed = ['mag_u_cModel','mag_g_cModel','mag_r_cModel','mag_i_cModel','mag_z_cModel','mag_y_cModel','ra','dec','extendedness','objectId','ext_shapeHSM_HsmShapeRegauss_e1','ext_shapeHSM_HsmShapeRegauss_e2','ext_shapeHSM_HsmShapeRegauss_sigma','u_modelfit_CModel_fracDev','u_modelfit_CModel_flux','g_modelfit_CModel_fracDev','g_modelfit_CModel_flux','r_modelfit_CModel_fracDev','r_modelfit_CModel_flux','i_modelfit_CModel_fracDev','i_modelfit_CModel_flux','z_modelfit_CModel_fracDev','z_modelfit_CModel_flux','y_modelfit_CModel_fracDev','y_modelfit_CModel_flux']\n",
    "\n",
    "X,y = emulator.make_training_set(truth='dc2_truth_run1.1', \n",
    "                                 observed='dc2_coadd_run1.1p_tract4850',\n",
    "                                 region=(55.8, -28.8, 0.2), \n",
    "                                 true_quantities=some_true, \n",
    "                                 observed_quantities=some_observed)"
   ]
  },
  {
   "cell_type": "code",
   "execution_count": null,
   "metadata": {},
   "outputs": [],
   "source": [
    "X.head()"
   ]
  },
  {
   "cell_type": "code",
   "execution_count": null,
   "metadata": {},
   "outputs": [],
   "source": [
    "y.head()"
   ]
  }
 ],
 "metadata": {
  "kernelspec": {
   "display_name": "desc-python",
   "language": "python",
   "name": "desc-python"
  },
  "language_info": {
   "codemirror_mode": {
    "name": "ipython",
    "version": 3
   },
   "file_extension": ".py",
   "mimetype": "text/x-python",
   "name": "python",
   "nbconvert_exporter": "python",
   "pygments_lexer": "ipython3",
   "version": "3.6.2"
  },
  "toc-autonumbering": false
 },
 "nbformat": 4,
 "nbformat_minor": 2
}
