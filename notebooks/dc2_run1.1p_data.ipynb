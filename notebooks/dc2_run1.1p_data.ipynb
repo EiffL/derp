{
 "cells": [
  {
   "cell_type": "markdown",
   "metadata": {},
   "source": [
    "# Preparing the DC2 Run 1.1p Data\n",
    "\n",
    "**Owner:** Phil Marshall (@drphilmarshall)\n",
    "\n",
    "**Last Run:** 2018-10-24 (by @drphilmarshall)\n",
    "\n",
    "**Goals:** Use the DC2 Run 1.1p truth catalog, and DRP Object table, to construct a design matrix `X` (from the truth table) and corresponding response variables `y` (from the DRP Object table).\n",
    "\n",
    "**Notes:** This notebook was made by adapting the following notebooks:\n",
    "* Scott Daniel's DC2 Tutorial [`truth_gcr_intro.ipynb`](https://github.com/LSSTDESC/DC2-analysis/blob/master/tutorials/truth_gcr_intro.ipynb)\n",
    "* Yao-Yuan Mao's DC2 Tutorial [`matching_fof.ipynb`](https://github.com/LSSTDESC/DC2-analysis/blob/master/tutorials/matching_fof.ipynb)\n",
    "\n",
    "To run this notebook, follow the instructions to setup Jupyter-dev at NERSC: https://confluence.slac.stanford.edu/x/1_ubDQ"
   ]
  },
  {
   "cell_type": "markdown",
   "metadata": {},
   "source": [
    "## Setup"
   ]
  },
  {
   "cell_type": "code",
   "execution_count": 1,
   "metadata": {},
   "outputs": [],
   "source": [
    "# import packages and methods that will be used in this notebook\n",
    "\n",
    "import healpy\n",
    "import numpy as np\n",
    "import pandas as pd\n",
    "import GCRCatalogs\n",
    "from astropy.coordinates import SkyCoord\n",
    "import FoFCatalogMatching\n",
    "\n",
    "import matplotlib\n",
    "%matplotlib inline\n",
    "import matplotlib.pyplot as plt"
   ]
  },
  {
   "cell_type": "markdown",
   "metadata": {},
   "source": [
    "## Loading the Input Truth"
   ]
  },
  {
   "cell_type": "code",
   "execution_count": 2,
   "metadata": {},
   "outputs": [],
   "source": [
    "# truth_catalog = GCRCatalogs.load_catalog('dc2_truth_run1.1_static')\n",
    "truth_catalog = GCRCatalogs.load_catalog('dc2_truth_run1.1', {'md5': None})"
   ]
  },
  {
   "cell_type": "markdown",
   "metadata": {},
   "source": [
    "You can list the quantities contained in the catalog using the same API as any other GCR-based catalog."
   ]
  },
  {
   "cell_type": "code",
   "execution_count": 3,
   "metadata": {},
   "outputs": [
    {
     "data": {
      "text/plain": [
       "['mag_true_y',\n",
       " 'ra',\n",
       " 'r',\n",
       " 'z',\n",
       " 'mag_true_z',\n",
       " 'mag_true_i',\n",
       " 'y',\n",
       " 'u',\n",
       " 'healpix_2048',\n",
       " 'mag_true_r',\n",
       " 'redshift',\n",
       " 'mag_true_u',\n",
       " 'g',\n",
       " 'mag_true_g',\n",
       " 'object_id',\n",
       " 'dec',\n",
       " 'star',\n",
       " 'sprinkled',\n",
       " 'agn',\n",
       " 'i']"
      ]
     },
     "execution_count": 3,
     "metadata": {},
     "output_type": "execute_result"
    }
   ],
   "source": [
    "all_true = truth_catalog.list_all_quantities(include_native=True)\n",
    "all_true"
   ]
  },
  {
   "cell_type": "markdown",
   "metadata": {},
   "source": [
    "The `get_quantity_info` method will give you access to descriptions of all of the native quantities in the catalog.  Note that the quantities `ugrizy` map directly to `mag_true_[ugrizy]'."
   ]
  },
  {
   "cell_type": "code",
   "execution_count": 4,
   "metadata": {},
   "outputs": [
    {
     "name": "stdout",
     "output_type": "stream",
     "text": [
      "mag_true_y None\n",
      "ra {'description': 'in degrees'}\n",
      "r {'description': 'observed lsst r magnitude; no dust extinction at all'}\n",
      "z {'description': 'observed lsst z magnitude; no dust extinction at all'}\n",
      "mag_true_z None\n",
      "mag_true_i None\n",
      "y {'description': 'observed lsst y magnitude; no dust extinction at all'}\n",
      "u {'description': 'observed lsst u magnitude; no dust extinction at all'}\n",
      "healpix_2048 {'description': 'healpixel containing the object (nside=2048; nested)'}\n",
      "mag_true_r None\n",
      "redshift {'description': 'cosmological only'}\n",
      "mag_true_u None\n",
      "g {'description': 'observed lsst g magnitude; no dust extinction at all'}\n",
      "mag_true_g None\n",
      "object_id {'description': 'an int uniquely identifying objects (can collide between stars, galaxies, and sprinkled objects)'}\n",
      "dec {'description': 'in degrees'}\n",
      "star {'description': 'an int; ==1 if a star; ==0 if not'}\n",
      "sprinkled {'description': 'an int; ==1 if object added by the sprinkler; ==0 if not'}\n",
      "agn {'description': 'an int; ==1 if galaxy has an AGN; ==0 if not'}\n",
      "i {'description': 'observed lsst i magnitude; no dust extinction at all'}\n"
     ]
    }
   ],
   "source": [
    "for qty in all_true:\n",
    "    info_dict = truth_catalog.get_quantity_info(qty)\n",
    "    print(qty,info_dict)"
   ]
  },
  {
   "cell_type": "markdown",
   "metadata": {},
   "source": [
    "Let's define a small photometric and spatial subset to work with, just for demo purposes."
   ]
  },
  {
   "cell_type": "code",
   "execution_count": 5,
   "metadata": {},
   "outputs": [
    {
     "name": "stdout",
     "output_type": "stream",
     "text": [
      "12\n"
     ]
    }
   ],
   "source": [
    "some_true = ['u',\n",
    "             'g',\n",
    "             'r',\n",
    "             'i',\n",
    "             'z',\n",
    "             'y',\n",
    "             'ra',\n",
    "             'dec',\n",
    "             'star',\n",
    "             'object_id',\n",
    "             'redshift',\n",
    "             'healpix_2048'\n",
    "]\n",
    "\n",
    "print(len(some_true))"
   ]
  },
  {
   "cell_type": "markdown",
   "metadata": {},
   "source": [
    "We'll want to keep our training and test set small while developing, but then increase its size later. A good option for selecting a subset of objects is to filter by sky position, either relative to some reference point, or using the healpixellation.\n",
    "\n",
    "In the cells below, we will query the catalog for all of the bright stars and galaxies in a 0.2 degree disc centered on `RA=55.8`, `Dec=-28.8`.\n",
    "\n",
    "In the next cell, we will define some methods (`filter_on_healpix` and `filter_on_dist`) needed to make that selection.  These methods will be passed into the catalog's `get_quantities` method with the `filters` kwarg.  The methods should accept numpy arrays and return a numpy array of booleans indicating whether or not each object in the input arrays passed the test.\n",
    "\n",
    "We will use `healpy`'s `query_disc` method to find which healpixels overlap our region of interest."
   ]
  },
  {
   "cell_type": "code",
   "execution_count": 6,
   "metadata": {},
   "outputs": [],
   "source": [
    "center_ra = 55.8\n",
    "center_dec = -28.8\n",
    "radius = 0.2\n",
    "\n",
    "ra_min, ra_max = center_ra - radius, center_ra + radius\n",
    "dec_min, dec_max = center_dec - radius, center_dec + radius\n",
    "\n",
    "center_ra_rad = np.radians(center_ra)\n",
    "center_dec_rad = np.radians(center_dec)\n",
    "\n",
    "center_vec = np.array([np.cos(center_dec_rad)*np.cos(center_ra_rad),\n",
    "                       np.cos(center_dec_rad)*np.sin(center_ra_rad),\n",
    "                       np.sin(center_dec_rad)])\n",
    "\n",
    "list_of_healpix = healpy.query_disc(2048, center_vec, np.radians(radius), nest=True, inclusive=True)\n",
    "\n",
    "def filter_on_healpix(hp):\n",
    "    return np.array([hh in list_of_healpix for hh in hp])\n",
    "\n",
    "def angularSeparation(ra, dec, center_ra, center_dec):\n",
    "    return SkyCoord(ra, dec, unit='deg').separation(SkyCoord(center_ra, center_dec, unit='deg')).deg\n",
    "\n",
    "def filter_on_dist(ra, dec):\n",
    "    return angularSeparation(ra, dec, center_ra, center_dec) < radius\n",
    "\n",
    "coord_filters = [\n",
    "    'ra >= {}'.format(ra_min),\n",
    "    'ra < {}'.format(ra_max),\n",
    "    'dec >= {}'.format(dec_min),\n",
    "    'dec < {}'.format(dec_max),\n",
    "]"
   ]
  },
  {
   "cell_type": "markdown",
   "metadata": {},
   "source": [
    "Now we let's query the catalog for all objects in the region of interest with magnitude `r<27.0`.  This query functions like any other GRC-based catalog query with one exception.  The truth catalog is ultimately stored as a sqlite database.  This means that all `native_filters` (filters applied directly to the catalog's native quantities), should be phrased as strings which could be inserted into an SQL `WHERE` clause.  Because the `native_filters` are applied when the quantities loaded into memory (as opposed to `filters`, which are applied after the quantities have been loaded), we want these to be as restrictive as possible so as to limit the memory consumption of the loaded catalog.  The sqlite databases are indexed on `star`, `agn`, `sprinkled`, `healpix_2048` and `object_id`.\n",
    "\n",
    "**Note:** We are aware that `nside==2048` healpixels may be too fine a resolution to helpfully limit the catalog query.  We are open to the idea of using a coarser resolution in future truth catalogs.\n",
    "\n",
    "After the coarse spatial limits applied by the `native_filter` on `healpix_2048`, we use the `filter_on_healpix` and `filter_on_dist` methods to actually get sources in our region of interest."
   ]
  },
  {
   "cell_type": "code",
   "execution_count": 7,
   "metadata": {},
   "outputs": [],
   "source": [
    "true_objects = truth_catalog.get_quantities(some_true,\n",
    "                                            native_filters=['r<27.0',\n",
    "                                                            'healpix_2048<=%d' % list_of_healpix.max(),\n",
    "                                                            'healpix_2048>=%d' % list_of_healpix.min()],\n",
    "                                            filters=[(filter_on_healpix, 'healpix_2048')]+coord_filters)  \n",
    "                                            \n",
    "#                                            filters=[(filter_on_healpix, 'healpix_2048'),\n",
    "#                                                     (filter_on_dist, 'ra', 'dec')])"
   ]
  },
  {
   "cell_type": "code",
   "execution_count": 8,
   "metadata": {},
   "outputs": [
    {
     "name": "stdout",
     "output_type": "stream",
     "text": [
      "33442\n"
     ]
    }
   ],
   "source": [
    "print(len(true_objects['ra']))"
   ]
  },
  {
   "cell_type": "code",
   "execution_count": 9,
   "metadata": {},
   "outputs": [
    {
     "data": {
      "image/png": "[encoded data removed]",
      "text/plain": [
       "<matplotlib.figure.Figure at 0x2ac2509e09e8>"
      ]
     },
     "metadata": {},
     "output_type": "display_data"
    }
   ],
   "source": [
    "plt.scatter(true_objects['ra'], true_objects['dec'], alpha=0.01, color=\"blue\")\n",
    "plt.xlim(ra_max, ra_min)\n",
    "plt.ylim(dec_min, dec_max)\n",
    "plt.xlabel('RA / deg')\n",
    "plt.ylabel('Dec / deg');"
   ]
  },
  {
   "cell_type": "markdown",
   "metadata": {},
   "source": [
    "We could also perform a similar spatial query for objects which were not added by the sprinkler (`sprinkled==0`) with magnitudes `r<27`.\n",
    "\n",
    "> Nb: \"the sprinkler\" is a piece of code used to add an extra population of AGN and supernovae into the Utral Deep Drilling Field of DC2.  Objects added by the sprinkler will have no counterpart in the underlying protoDC2 extragalactic catalog, which is why we have added a `sprinkled` flag to the catalog."
   ]
  },
  {
   "cell_type": "code",
   "execution_count": 10,
   "metadata": {},
   "outputs": [],
   "source": [
    "unsprinkled_true_objects = truth_catalog.get_quantities(some_true,\n",
    "                                                        native_filters=['sprinkled==0',\n",
    "                                                                           'r<27.0',\n",
    "                                                                           'healpix_2048<=%d' % list_of_healpix.max(),\n",
    "                                                                           'healpix_2048>=%d' % list_of_healpix.min()],\n",
    "                                                        filters=[(filter_on_healpix, 'healpix_2048'),\n",
    "                                                                 (filter_on_dist, 'ra', 'dec')])"
   ]
  },
  {
   "cell_type": "code",
   "execution_count": 11,
   "metadata": {},
   "outputs": [
    {
     "name": "stdout",
     "output_type": "stream",
     "text": [
      "32394\n"
     ]
    }
   ],
   "source": [
    "print(len(unsprinkled_true_objects['ra']))"
   ]
  },
  {
   "cell_type": "markdown",
   "metadata": {},
   "source": [
    "Only a handful of objects in this 0.2 deg radius circular aperture have been sprinkled."
   ]
  },
  {
   "cell_type": "markdown",
   "metadata": {},
   "source": [
    "## Loading the Observed LSST Objects\n",
    "\n",
    "Now we need to load in a DRP Object table, so that we can (later) match its contents (spatially) to the input truth objects. We'll do this for just a single tract, no. 4850."
   ]
  },
  {
   "cell_type": "code",
   "execution_count": 45,
   "metadata": {},
   "outputs": [
    {
     "name": "stdout",
     "output_type": "stream",
     "text": [
      "CPU times: user 2 s, sys: 286 ms, total: 2.28 s\n",
      "Wall time: 2.54 s\n"
     ]
    }
   ],
   "source": [
    "%%time\n",
    "observed_catalog = GCRCatalogs.load_catalog('dc2_coadd_run1.1p_tract4850')"
   ]
  },
  {
   "cell_type": "code",
   "execution_count": 46,
   "metadata": {},
   "outputs": [
    {
     "name": "stdout",
     "output_type": "stream",
     "text": [
      "CPU times: user 8.18 s, sys: 514 ms, total: 8.7 s\n",
      "Wall time: 55.3 s\n"
     ]
    }
   ],
   "source": [
    "\"\"\"\n",
    "# The full catalog takes 10-20 times longer to load:\n",
    "%%time\n",
    "observed_catalog = GCRCatalogs.load_catalog('dc2_coadd_run1.1p')\n",
    "\"\"\""
   ]
  },
  {
   "cell_type": "code",
   "execution_count": 13,
   "metadata": {},
   "outputs": [
    {
     "data": {
      "text/plain": [
       "2573"
      ]
     },
     "execution_count": 13,
     "metadata": {},
     "output_type": "execute_result"
    }
   ],
   "source": [
    "all_observed = observed_catalog.list_all_quantities(include_native=True)\n",
    "len(all_observed)"
   ]
  },
  {
   "cell_type": "markdown",
   "metadata": {},
   "source": [
    "The object table contains a lot of quantities... Let's define a small photometric and spatial subset to use. We'll make this bigger than the truth subset though, because we expect to be emulating more quantities than we have truth values for, in general."
   ]
  },
  {
   "cell_type": "code",
   "execution_count": 14,
   "metadata": {},
   "outputs": [
    {
     "data": {
      "text/plain": [
       "['base_Blendedness_flag_noCentroid',\n",
       " 'base_SdssShape_flag_badCentroid',\n",
       " 'ext_convolved_ConvolvedFlux_2_6_0_apCorr',\n",
       " 'ext_convolved_ConvolvedFlux_3_6_0_flag',\n",
       " 'i_base_CircularApertureFlux_3_0_flag',\n",
       " 'i_modelfit_DoubleShapeletPsfApprox_1_2',\n",
       " 'modelfit_CModel_flux',\n",
       " 'modelfit_CModel_flux_inner',\n",
       " 'r_base_CircularApertureFlux_12_0_flag_apertureTruncated',\n",
       " 'r_base_LocalBackground_flux',\n",
       " 'r_base_SdssShape_flag_unweighted',\n",
       " 'r_modelfit_CModel_exp_apCorr',\n",
       " 'r_modelfit_DoubleShapeletPsfApprox_flag_badCentroid',\n",
       " 'r_slot_ModelFlux_fluxSigma',\n",
       " 'slot_ApFlux_flag',\n",
       " 'u_base_SdssShape_y',\n",
       " 'u_base_TransformedShape_xy',\n",
       " 'u_modelfit_DoubleShapeletPsfApprox_flag_invalidPointForPsf',\n",
       " 'u_slot_Centroid_y',\n",
       " 'y_slot_ModelFlux_flag_region_maxBadPixelFraction']"
      ]
     },
     "execution_count": 14,
     "metadata": {},
     "output_type": "execute_result"
    }
   ],
   "source": [
    "sorted(all_observed[1300:1320])"
   ]
  },
  {
   "cell_type": "code",
   "execution_count": 15,
   "metadata": {},
   "outputs": [
    {
     "name": "stdout",
     "output_type": "stream",
     "text": [
      "25\n"
     ]
    }
   ],
   "source": [
    "some_observed = ['mag_u_cModel',\n",
    "                 'mag_g_cModel',\n",
    "                 'mag_r_cModel',\n",
    "                 'mag_i_cModel',\n",
    "                 'mag_z_cModel',\n",
    "                 'mag_y_cModel',\n",
    "                 'ra',\n",
    "                 'dec',\n",
    "                 'extendedness',\n",
    "                 'objectId',\n",
    "                 'ext_shapeHSM_HsmShapeRegauss_e1',\n",
    "                 'ext_shapeHSM_HsmShapeRegauss_e2',\n",
    "                 'ext_shapeHSM_HsmShapeRegauss_sigma',\n",
    "                 'u_modelfit_CModel_fracDev',\n",
    "                 'u_modelfit_CModel_flux',\n",
    "                 'g_modelfit_CModel_fracDev',\n",
    "                 'g_modelfit_CModel_flux',\n",
    "                 'r_modelfit_CModel_fracDev',\n",
    "                 'r_modelfit_CModel_flux',\n",
    "                 'i_modelfit_CModel_fracDev',\n",
    "                 'i_modelfit_CModel_flux',\n",
    "                 'z_modelfit_CModel_fracDev',\n",
    "                 'z_modelfit_CModel_flux',\n",
    "                 'y_modelfit_CModel_fracDev',\n",
    "                 'y_modelfit_CModel_flux'\n",
    "]\n",
    "\n",
    "print(len(some_observed))"
   ]
  },
  {
   "cell_type": "markdown",
   "metadata": {},
   "source": [
    "Let's choose a small RA and Dec range to do the matching so that it won't take too long! Let's also define a magnitude cut.\n",
    "\n",
    "> Nb. Recall that we selected objects in the truth catalog using the following circular aperture:\n",
    "```\n",
    "center_ra = 54.6\n",
    "center_dec = -28.0\n",
    "radius = 0.2\n",
    "```"
   ]
  },
  {
   "cell_type": "code",
   "execution_count": 16,
   "metadata": {},
   "outputs": [],
   "source": [
    "mag_filters = [\n",
    "    (np.isfinite, 'mag_r_cModel'),\n",
    "    'mag_r_cModel < 27.0',\n",
    "]\n",
    "\n",
    "# For some reason this filter doesn't work, here.\n",
    "# coord_filters = [\n",
    "#     (filter_on_dist, 'ra', 'dec')\n",
    "# ]\n",
    "\n",
    "coord_filters = [\n",
    "    'ra >= {}'.format(ra_min),\n",
    "    'ra < {}'.format(ra_max),\n",
    "    'dec >= {}'.format(dec_min),\n",
    "    'dec < {}'.format(dec_max),\n",
    "]"
   ]
  },
  {
   "cell_type": "code",
   "execution_count": 17,
   "metadata": {},
   "outputs": [
    {
     "name": "stderr",
     "output_type": "stream",
     "text": [
      "/global/common/software/lsst/common/miniconda/current/lib/python3.6/site-packages/GCRCatalogs/dc2_object.py:300: RuntimeWarning: divide by zero encountered in log10\n",
      "  lambda x: -2.5 * np.log10(x) + 27.0,\n",
      "/global/common/software/lsst/common/miniconda/current/lib/python3.6/site-packages/GCRCatalogs/dc2_object.py:300: RuntimeWarning: invalid value encountered in log10\n",
      "  lambda x: -2.5 * np.log10(x) + 27.0,\n"
     ]
    }
   ],
   "source": [
    "# Load some observed quantities, using both of the filters we just defined. \n",
    "observed_objects = observed_catalog.get_quantities(some_observed, \n",
    "                                                filters=(mag_filters + coord_filters))"
   ]
  },
  {
   "cell_type": "code",
   "execution_count": 18,
   "metadata": {},
   "outputs": [
    {
     "name": "stdout",
     "output_type": "stream",
     "text": [
      "30870\n"
     ]
    }
   ],
   "source": [
    "print(len(observed_objects['ra']))"
   ]
  },
  {
   "cell_type": "code",
   "execution_count": 19,
   "metadata": {},
   "outputs": [
    {
     "data": {
      "image/png": "[encoded data removed]",
      "text/plain": [
       "<matplotlib.figure.Figure at 0x2ac25d14f2b0>"
      ]
     },
     "metadata": {},
     "output_type": "display_data"
    }
   ],
   "source": [
    "plt.scatter(observed_objects['ra'], observed_objects['dec'], alpha=0.01, color=\"red\")\n",
    "plt.xlim(ra_max, ra_min)\n",
    "plt.ylim(dec_min, dec_max)\n",
    "plt.xlabel('RA / deg')\n",
    "plt.ylabel('Dec / deg');"
   ]
  },
  {
   "cell_type": "markdown",
   "metadata": {},
   "source": [
    "## Matching the True and Observed Objects\n",
    "\n",
    "We now have an array of observed object measurements, and an array of true object parameters: next we need to match them up, by position on the sky. \n",
    "\n",
    "`FoFCatalogMatching.match` takes a dictionary of catalogs to match, a friends-of-friends linking length. Because our \"catalog\" is not an astropy table or pandas dataframe, `len(truth_coord)` won't give the actual length of the table\n",
    "so we need to specify `catalog_len_getter` so that the code knows how to get the length of the catalog."
   ]
  },
  {
   "cell_type": "code",
   "execution_count": 20,
   "metadata": {},
   "outputs": [],
   "source": [
    "results = FoFCatalogMatching.match(\n",
    "    catalog_dict={'truth': true_objects, 'observed': observed_objects},\n",
    "    linking_lengths=1.0,\n",
    "    catalog_len_getter=lambda x: len(x['ra']),\n",
    ")"
   ]
  },
  {
   "cell_type": "markdown",
   "metadata": {},
   "source": [
    "Now we want to count the number of truth and coadd objects *for each group*\n",
    "but instead of looping over groups, we can do this in a smart (and very fast) way. First we need to know which rows are from the truth catalog and which are from the coadd."
   ]
  },
  {
   "cell_type": "code",
   "execution_count": 21,
   "metadata": {},
   "outputs": [
    {
     "data": {
      "image/png": "[encoded data removed]",
      "text/plain": [
       "<matplotlib.figure.Figure at 0x2ac252c67630>"
      ]
     },
     "metadata": {},
     "output_type": "display_data"
    }
   ],
   "source": [
    "truth_mask = results['catalog_key'] == 'truth'\n",
    "observed_mask = ~truth_mask\n",
    "\n",
    "# Then, np.bincount will give up the number of id occurrences \n",
    "# (like histogram but with integer input):\n",
    "n_groups = results['group_id'].max() + 1\n",
    "n_true = np.bincount(results['group_id'][truth_mask], minlength=n_groups)\n",
    "n_observed = np.bincount(results['group_id'][observed_mask], minlength=n_groups)\n",
    "\n",
    "# Now n_true and n_observed are the number of true/observed objects \n",
    "# in each group, and we want to make a 2d histogram of (n_true, n_observed). \n",
    "n_max = max(n_true.max(), n_observed.max()) + 1\n",
    "hist_2d = np.bincount(n_observed * n_max + n_true, minlength=n_max*n_max).reshape(n_max, n_max)\n",
    "\n",
    "plt.imshow(np.log10(hist_2d+1), extent=(-0.5, n_max-0.5, -0.5, n_max-0.5), origin='lower');\n",
    "plt.xlabel('Number of true objects');\n",
    "plt.ylabel('Number of observed objects');\n",
    "plt.colorbar(label=r'$\\log(N_{\\rm groups} \\, + \\, 1)$');"
   ]
  },
  {
   "cell_type": "code",
   "execution_count": 22,
   "metadata": {},
   "outputs": [
    {
     "name": "stdout",
     "output_type": "stream",
     "text": [
      "21246  out of  38974  FoF groups are 1-to-1 matches.\n"
     ]
    }
   ],
   "source": [
    "one_to_one = hist_2d[1,1]\n",
    "total = np.sum(hist_2d)\n",
    "print(one_to_one, \" out of \", total, \" FoF groups are 1-to-1 matches.\")"
   ]
  },
  {
   "cell_type": "markdown",
   "metadata": {},
   "source": [
    "About half of the FoF groups are 1-to-1 matches. Some of this is due to the mis-orientation between the healpixel we used to speed up the truth catalog pre-selection, but at 27th magnitude, there's also a lot of blending. "
   ]
  },
  {
   "cell_type": "markdown",
   "metadata": {},
   "source": [
    "## Formatting into `X` and `y`\n",
    "\n",
    "Now that we have a set of matched objects, we can reformat them into a design matrix `X` and the corresponding response variables `y`. We'll make these as simple `numpy` arrays."
   ]
  },
  {
   "cell_type": "markdown",
   "metadata": {},
   "source": [
    "Let's focus on the objects in the groups that have a 1-to-1 true/observed match. "
   ]
  },
  {
   "cell_type": "code",
   "execution_count": 23,
   "metadata": {},
   "outputs": [],
   "source": [
    "one_to_one_group_mask = np.in1d(results['group_id'], np.flatnonzero((n_true == 1) & (n_observed == 1)))"
   ]
  },
  {
   "cell_type": "markdown",
   "metadata": {},
   "source": [
    "We need the row indices in the *original* truth/observed \n",
    "catalogs for those 1-to-1 groups."
   ]
  },
  {
   "cell_type": "code",
   "execution_count": 24,
   "metadata": {},
   "outputs": [],
   "source": [
    "truth_idx = results['row_index'][one_to_one_group_mask & truth_mask]\n",
    "observed_idx = results['row_index'][one_to_one_group_mask & observed_mask]"
   ]
  },
  {
   "cell_type": "markdown",
   "metadata": {},
   "source": [
    "Now we can use these indices to pull out the data arrays, and make `pandas` data frames from them."
   ]
  },
  {
   "cell_type": "code",
   "execution_count": 25,
   "metadata": {},
   "outputs": [],
   "source": [
    "true_matched = pd.DataFrame(true_objects).iloc[truth_idx].reset_index(drop=True)\n",
    "observed_matched = pd.DataFrame(observed_objects).iloc[observed_idx].reset_index(drop=True)"
   ]
  },
  {
   "cell_type": "markdown",
   "metadata": {},
   "source": [
    "We don't want to train and predict the object IDs, so let's drop them:"
   ]
  },
  {
   "cell_type": "code",
   "execution_count": 26,
   "metadata": {},
   "outputs": [],
   "source": [
    "true_matched.drop(['object_id'], axis=1, inplace=True)\n",
    "observed_matched.drop(['objectId'], axis=1, inplace=True)"
   ]
  },
  {
   "cell_type": "code",
   "execution_count": 27,
   "metadata": {},
   "outputs": [
    {
     "data": {
      "text/html": [
       "<div>\n",
       "<style>\n",
       "    .dataframe thead tr:only-child th {\n",
       "        text-align: right;\n",
       "    }\n",
       "\n",
       "    .dataframe thead th {\n",
       "        text-align: left;\n",
       "    }\n",
       "\n",
       "    .dataframe tbody tr th {\n",
       "        vertical-align: top;\n",
       "    }\n",
       "</style>\n",
       "<table border=\"1\" class=\"dataframe\">\n",
       "  <thead>\n",
       "    <tr style=\"text-align: right;\">\n",
       "      <th></th>\n",
       "      <th>dec</th>\n",
       "      <th>g</th>\n",
       "      <th>healpix_2048</th>\n",
       "      <th>i</th>\n",
       "      <th>r</th>\n",
       "      <th>ra</th>\n",
       "      <th>redshift</th>\n",
       "      <th>star</th>\n",
       "      <th>u</th>\n",
       "      <th>y</th>\n",
       "      <th>z</th>\n",
       "    </tr>\n",
       "  </thead>\n",
       "  <tbody>\n",
       "    <tr>\n",
       "      <th>0</th>\n",
       "      <td>-28.991806</td>\n",
       "      <td>21.220566</td>\n",
       "      <td>36963071</td>\n",
       "      <td>19.143178</td>\n",
       "      <td>19.968730</td>\n",
       "      <td>55.911601</td>\n",
       "      <td>0.000000</td>\n",
       "      <td>True</td>\n",
       "      <td>23.712136</td>\n",
       "      <td>18.571897</td>\n",
       "      <td>18.753682</td>\n",
       "    </tr>\n",
       "    <tr>\n",
       "      <th>1</th>\n",
       "      <td>-28.977511</td>\n",
       "      <td>26.089855</td>\n",
       "      <td>36963071</td>\n",
       "      <td>23.680101</td>\n",
       "      <td>24.888352</td>\n",
       "      <td>55.900110</td>\n",
       "      <td>0.000000</td>\n",
       "      <td>True</td>\n",
       "      <td>28.623161</td>\n",
       "      <td>22.898489</td>\n",
       "      <td>23.134674</td>\n",
       "    </tr>\n",
       "    <tr>\n",
       "      <th>2</th>\n",
       "      <td>-28.996410</td>\n",
       "      <td>18.707958</td>\n",
       "      <td>36963071</td>\n",
       "      <td>18.405405</td>\n",
       "      <td>18.471620</td>\n",
       "      <td>55.892925</td>\n",
       "      <td>0.000000</td>\n",
       "      <td>True</td>\n",
       "      <td>19.641134</td>\n",
       "      <td>18.413843</td>\n",
       "      <td>18.405028</td>\n",
       "    </tr>\n",
       "    <tr>\n",
       "      <th>3</th>\n",
       "      <td>-28.984325</td>\n",
       "      <td>18.958377</td>\n",
       "      <td>36963071</td>\n",
       "      <td>18.054779</td>\n",
       "      <td>18.301951</td>\n",
       "      <td>55.902400</td>\n",
       "      <td>0.000000</td>\n",
       "      <td>True</td>\n",
       "      <td>20.698326</td>\n",
       "      <td>17.906033</td>\n",
       "      <td>17.958187</td>\n",
       "    </tr>\n",
       "    <tr>\n",
       "      <th>4</th>\n",
       "      <td>-28.978697</td>\n",
       "      <td>25.940937</td>\n",
       "      <td>36963071</td>\n",
       "      <td>24.704194</td>\n",
       "      <td>25.328733</td>\n",
       "      <td>55.892868</td>\n",
       "      <td>0.669735</td>\n",
       "      <td>False</td>\n",
       "      <td>26.093231</td>\n",
       "      <td>24.565313</td>\n",
       "      <td>24.636821</td>\n",
       "    </tr>\n",
       "  </tbody>\n",
       "</table>\n",
       "</div>"
      ],
      "text/plain": [
       "         dec          g  healpix_2048          i          r         ra  \\\n",
       "0 -28.991806  21.220566      36963071  19.143178  19.968730  55.911601   \n",
       "1 -28.977511  26.089855      36963071  23.680101  24.888352  55.900110   \n",
       "2 -28.996410  18.707958      36963071  18.405405  18.471620  55.892925   \n",
       "3 -28.984325  18.958377      36963071  18.054779  18.301951  55.902400   \n",
       "4 -28.978697  25.940937      36963071  24.704194  25.328733  55.892868   \n",
       "\n",
       "   redshift   star          u          y          z  \n",
       "0  0.000000   True  23.712136  18.571897  18.753682  \n",
       "1  0.000000   True  28.623161  22.898489  23.134674  \n",
       "2  0.000000   True  19.641134  18.413843  18.405028  \n",
       "3  0.000000   True  20.698326  17.906033  17.958187  \n",
       "4  0.669735  False  26.093231  24.565313  24.636821  "
      ]
     },
     "execution_count": 27,
     "metadata": {},
     "output_type": "execute_result"
    }
   ],
   "source": [
    "true_matched.head()"
   ]
  },
  {
   "cell_type": "code",
   "execution_count": 28,
   "metadata": {},
   "outputs": [
    {
     "data": {
      "text/html": [
       "<div>\n",
       "<style>\n",
       "    .dataframe thead tr:only-child th {\n",
       "        text-align: right;\n",
       "    }\n",
       "\n",
       "    .dataframe thead th {\n",
       "        text-align: left;\n",
       "    }\n",
       "\n",
       "    .dataframe tbody tr th {\n",
       "        vertical-align: top;\n",
       "    }\n",
       "</style>\n",
       "<table border=\"1\" class=\"dataframe\">\n",
       "  <thead>\n",
       "    <tr style=\"text-align: right;\">\n",
       "      <th></th>\n",
       "      <th>dec</th>\n",
       "      <th>ext_shapeHSM_HsmShapeRegauss_e1</th>\n",
       "      <th>ext_shapeHSM_HsmShapeRegauss_e2</th>\n",
       "      <th>ext_shapeHSM_HsmShapeRegauss_sigma</th>\n",
       "      <th>extendedness</th>\n",
       "      <th>g_modelfit_CModel_flux</th>\n",
       "      <th>g_modelfit_CModel_fracDev</th>\n",
       "      <th>i_modelfit_CModel_flux</th>\n",
       "      <th>i_modelfit_CModel_fracDev</th>\n",
       "      <th>mag_g_cModel</th>\n",
       "      <th>...</th>\n",
       "      <th>mag_z_cModel</th>\n",
       "      <th>r_modelfit_CModel_flux</th>\n",
       "      <th>r_modelfit_CModel_fracDev</th>\n",
       "      <th>ra</th>\n",
       "      <th>u_modelfit_CModel_flux</th>\n",
       "      <th>u_modelfit_CModel_fracDev</th>\n",
       "      <th>y_modelfit_CModel_flux</th>\n",
       "      <th>y_modelfit_CModel_fracDev</th>\n",
       "      <th>z_modelfit_CModel_flux</th>\n",
       "      <th>z_modelfit_CModel_fracDev</th>\n",
       "    </tr>\n",
       "  </thead>\n",
       "  <tbody>\n",
       "    <tr>\n",
       "      <th>0</th>\n",
       "      <td>-28.991807</td>\n",
       "      <td>0.142506</td>\n",
       "      <td>-0.200237</td>\n",
       "      <td>0.025201</td>\n",
       "      <td>0.0</td>\n",
       "      <td>217.829131</td>\n",
       "      <td>0.0</td>\n",
       "      <td>1504.482516</td>\n",
       "      <td>1.000000</td>\n",
       "      <td>21.154710</td>\n",
       "      <td>...</td>\n",
       "      <td>18.661071</td>\n",
       "      <td>705.950209</td>\n",
       "      <td>0.81314</td>\n",
       "      <td>55.911601</td>\n",
       "      <td>22.917900</td>\n",
       "      <td>1.0</td>\n",
       "      <td>2504.669981</td>\n",
       "      <td>1.0</td>\n",
       "      <td>2165.565923</td>\n",
       "      <td>1.000000</td>\n",
       "    </tr>\n",
       "    <tr>\n",
       "      <th>1</th>\n",
       "      <td>-28.977510</td>\n",
       "      <td>NaN</td>\n",
       "      <td>NaN</td>\n",
       "      <td>NaN</td>\n",
       "      <td>0.0</td>\n",
       "      <td>0.405557</td>\n",
       "      <td>0.0</td>\n",
       "      <td>24.147202</td>\n",
       "      <td>1.000000</td>\n",
       "      <td>27.979869</td>\n",
       "      <td>...</td>\n",
       "      <td>23.144668</td>\n",
       "      <td>8.212308</td>\n",
       "      <td>0.00000</td>\n",
       "      <td>55.900126</td>\n",
       "      <td>-0.350792</td>\n",
       "      <td>-0.0</td>\n",
       "      <td>40.871555</td>\n",
       "      <td>1.0</td>\n",
       "      <td>34.844383</td>\n",
       "      <td>0.000000</td>\n",
       "    </tr>\n",
       "    <tr>\n",
       "      <th>2</th>\n",
       "      <td>-28.996411</td>\n",
       "      <td>0.081299</td>\n",
       "      <td>-0.054256</td>\n",
       "      <td>3.369945</td>\n",
       "      <td>0.0</td>\n",
       "      <td>1975.915976</td>\n",
       "      <td>0.0</td>\n",
       "      <td>2990.060250</td>\n",
       "      <td>0.000000</td>\n",
       "      <td>18.760579</td>\n",
       "      <td>...</td>\n",
       "      <td>18.360969</td>\n",
       "      <td>2638.925644</td>\n",
       "      <td>1.00000</td>\n",
       "      <td>55.892925</td>\n",
       "      <td>979.607751</td>\n",
       "      <td>0.0</td>\n",
       "      <td>2804.738315</td>\n",
       "      <td>1.0</td>\n",
       "      <td>2855.041828</td>\n",
       "      <td>1.000000</td>\n",
       "    </tr>\n",
       "    <tr>\n",
       "      <th>3</th>\n",
       "      <td>-28.984327</td>\n",
       "      <td>0.198970</td>\n",
       "      <td>-0.015816</td>\n",
       "      <td>0.059442</td>\n",
       "      <td>0.0</td>\n",
       "      <td>1577.717831</td>\n",
       "      <td>0.0</td>\n",
       "      <td>4103.626232</td>\n",
       "      <td>0.451565</td>\n",
       "      <td>19.004927</td>\n",
       "      <td>...</td>\n",
       "      <td>17.932000</td>\n",
       "      <td>3085.767655</td>\n",
       "      <td>0.00000</td>\n",
       "      <td>55.902399</td>\n",
       "      <td>372.426492</td>\n",
       "      <td>0.0</td>\n",
       "      <td>4443.008579</td>\n",
       "      <td>0.0</td>\n",
       "      <td>4238.382909</td>\n",
       "      <td>0.156636</td>\n",
       "    </tr>\n",
       "    <tr>\n",
       "      <th>4</th>\n",
       "      <td>-28.978684</td>\n",
       "      <td>NaN</td>\n",
       "      <td>NaN</td>\n",
       "      <td>NaN</td>\n",
       "      <td>0.0</td>\n",
       "      <td>2.140652</td>\n",
       "      <td>1.0</td>\n",
       "      <td>6.101377</td>\n",
       "      <td>1.000000</td>\n",
       "      <td>26.173635</td>\n",
       "      <td>...</td>\n",
       "      <td>24.437573</td>\n",
       "      <td>5.064346</td>\n",
       "      <td>1.00000</td>\n",
       "      <td>55.892870</td>\n",
       "      <td>2.033389</td>\n",
       "      <td>0.0</td>\n",
       "      <td>3.572749</td>\n",
       "      <td>0.0</td>\n",
       "      <td>10.591825</td>\n",
       "      <td>0.000000</td>\n",
       "    </tr>\n",
       "  </tbody>\n",
       "</table>\n",
       "<p>5 rows × 24 columns</p>\n",
       "</div>"
      ],
      "text/plain": [
       "         dec  ext_shapeHSM_HsmShapeRegauss_e1  \\\n",
       "0 -28.991807                         0.142506   \n",
       "1 -28.977510                              NaN   \n",
       "2 -28.996411                         0.081299   \n",
       "3 -28.984327                         0.198970   \n",
       "4 -28.978684                              NaN   \n",
       "\n",
       "   ext_shapeHSM_HsmShapeRegauss_e2  ext_shapeHSM_HsmShapeRegauss_sigma  \\\n",
       "0                        -0.200237                            0.025201   \n",
       "1                              NaN                                 NaN   \n",
       "2                        -0.054256                            3.369945   \n",
       "3                        -0.015816                            0.059442   \n",
       "4                              NaN                                 NaN   \n",
       "\n",
       "   extendedness  g_modelfit_CModel_flux  g_modelfit_CModel_fracDev  \\\n",
       "0           0.0              217.829131                        0.0   \n",
       "1           0.0                0.405557                        0.0   \n",
       "2           0.0             1975.915976                        0.0   \n",
       "3           0.0             1577.717831                        0.0   \n",
       "4           0.0                2.140652                        1.0   \n",
       "\n",
       "   i_modelfit_CModel_flux  i_modelfit_CModel_fracDev  mag_g_cModel  \\\n",
       "0             1504.482516                   1.000000     21.154710   \n",
       "1               24.147202                   1.000000     27.979869   \n",
       "2             2990.060250                   0.000000     18.760579   \n",
       "3             4103.626232                   0.451565     19.004927   \n",
       "4                6.101377                   1.000000     26.173635   \n",
       "\n",
       "             ...              mag_z_cModel  r_modelfit_CModel_flux  \\\n",
       "0            ...                 18.661071              705.950209   \n",
       "1            ...                 23.144668                8.212308   \n",
       "2            ...                 18.360969             2638.925644   \n",
       "3            ...                 17.932000             3085.767655   \n",
       "4            ...                 24.437573                5.064346   \n",
       "\n",
       "   r_modelfit_CModel_fracDev         ra  u_modelfit_CModel_flux  \\\n",
       "0                    0.81314  55.911601               22.917900   \n",
       "1                    0.00000  55.900126               -0.350792   \n",
       "2                    1.00000  55.892925              979.607751   \n",
       "3                    0.00000  55.902399              372.426492   \n",
       "4                    1.00000  55.892870                2.033389   \n",
       "\n",
       "   u_modelfit_CModel_fracDev  y_modelfit_CModel_flux  \\\n",
       "0                        1.0             2504.669981   \n",
       "1                       -0.0               40.871555   \n",
       "2                        0.0             2804.738315   \n",
       "3                        0.0             4443.008579   \n",
       "4                        0.0                3.572749   \n",
       "\n",
       "   y_modelfit_CModel_fracDev  z_modelfit_CModel_flux  \\\n",
       "0                        1.0             2165.565923   \n",
       "1                        1.0               34.844383   \n",
       "2                        1.0             2855.041828   \n",
       "3                        0.0             4238.382909   \n",
       "4                        0.0               10.591825   \n",
       "\n",
       "   z_modelfit_CModel_fracDev  \n",
       "0                   1.000000  \n",
       "1                   0.000000  \n",
       "2                   1.000000  \n",
       "3                   0.156636  \n",
       "4                   0.000000  \n",
       "\n",
       "[5 rows x 24 columns]"
      ]
     },
     "execution_count": 28,
     "metadata": {},
     "output_type": "execute_result"
    }
   ],
   "source": [
    "observed_matched.head()"
   ]
  },
  {
   "cell_type": "markdown",
   "metadata": {},
   "source": [
    "Machine learning engine typically want `numpy.ndarray` objects as input, both for `X` and `y` - but, its convenient to keep the column names together with the values, so lets finally just associate the true catalog with the input design matrix `pandas.DataFrame` `X`, and the observed catalog values with the output response variables `y` And then let's just double check the shape of the arrays."
   ]
  },
  {
   "cell_type": "code",
   "execution_count": 29,
   "metadata": {},
   "outputs": [],
   "source": [
    "X, y = true_matched, observed_matched"
   ]
  },
  {
   "cell_type": "code",
   "execution_count": 30,
   "metadata": {},
   "outputs": [
    {
     "data": {
      "text/plain": [
       "((21246, 11), (21246, 24))"
      ]
     },
     "execution_count": 30,
     "metadata": {},
     "output_type": "execute_result"
    }
   ],
   "source": [
    "X.shape, y.shape"
   ]
  },
  {
   "cell_type": "markdown",
   "metadata": {},
   "source": [
    "These anonymous arrays could now be passed to a machine learning model."
   ]
  },
  {
   "cell_type": "markdown",
   "metadata": {},
   "source": [
    "## Summary\n",
    "\n",
    "We loaded in the truth table and observed DRP Object table from Run 1.1p, and matched the objects in a small (0.4x0.4 degree) patch of sky. This gave as about 20k 1-to-1 matches, which we packaged up ready for machine learning training and testing. "
   ]
  },
  {
   "cell_type": "markdown",
   "metadata": {},
   "source": [
    "A good next step is given to us in the final section [`matching_fof.ipynb` DC2 tutorial](https://github.com/LSSTDESC/DC2-analysis/blob/master/tutorials/matching_fof.ipynb): joining to the extragalactic catalog that the truth table was made from, and bringing in some additional true object properties to better predict the observed properties. We'll leave that for another time."
   ]
  },
  {
   "cell_type": "markdown",
   "metadata": {},
   "source": [
    "## Appendix\n",
    "\n",
    "Let's re-do all of the above work using the `derp.Emulator`."
   ]
  },
  {
   "cell_type": "code",
   "execution_count": 31,
   "metadata": {},
   "outputs": [],
   "source": [
    "# Assume that the user has followed the \"contributing\" instructions in the README:\n",
    "import os, sys\n",
    "derp_dir = os.environ['HOME']+'/desc/derp'\n",
    "sys.path.insert(0, derp_dir)"
   ]
  },
  {
   "cell_type": "code",
   "execution_count": 32,
   "metadata": {},
   "outputs": [],
   "source": [
    "import derp"
   ]
  },
  {
   "cell_type": "code",
   "execution_count": 33,
   "metadata": {},
   "outputs": [
    {
     "name": "stderr",
     "output_type": "stream",
     "text": [
      "/global/common/software/lsst/common/miniconda/current/lib/python3.6/site-packages/GCRCatalogs/dc2_object.py:300: RuntimeWarning: divide by zero encountered in log10\n",
      "  lambda x: -2.5 * np.log10(x) + 27.0,\n",
      "/global/common/software/lsst/common/miniconda/current/lib/python3.6/site-packages/GCRCatalogs/dc2_object.py:300: RuntimeWarning: invalid value encountered in log10\n",
      "  lambda x: -2.5 * np.log10(x) + 27.0,\n"
     ]
    },
    {
     "name": "stdout",
     "output_type": "stream",
     "text": [
      "CPU times: user 13.9 s, sys: 7.68 s, total: 21.5 s\n",
      "Wall time: 48.7 s\n"
     ]
    }
   ],
   "source": [
    "%%time\n",
    "\n",
    "emulator = derp.Emulator()\n",
    "\n",
    "some_true = ['u','g','r','i','z','y','ra','dec','star','object_id','redshift','healpix_2048']\n",
    "some_observed = ['mag_u_cModel','mag_g_cModel','mag_r_cModel','mag_i_cModel','mag_z_cModel','mag_y_cModel','ra','dec','extendedness','objectId','ext_shapeHSM_HsmShapeRegauss_e1','ext_shapeHSM_HsmShapeRegauss_e2','ext_shapeHSM_HsmShapeRegauss_sigma','u_modelfit_CModel_fracDev','u_modelfit_CModel_flux','g_modelfit_CModel_fracDev','g_modelfit_CModel_flux','r_modelfit_CModel_fracDev','r_modelfit_CModel_flux','i_modelfit_CModel_fracDev','i_modelfit_CModel_flux','z_modelfit_CModel_fracDev','z_modelfit_CModel_flux','y_modelfit_CModel_fracDev','y_modelfit_CModel_flux']\n",
    "\n",
    "X,y = emulator.make_training_set(truth='dc2_truth_run1.1', \n",
    "                                 observed='dc2_coadd_run1.1p_tract4850',\n",
    "                                 region=(55.8, -28.8, 0.2), \n",
    "                                 true_quantities=some_true, \n",
    "                                 observed_quantities=some_observed)"
   ]
  },
  {
   "cell_type": "code",
   "execution_count": 34,
   "metadata": {},
   "outputs": [
    {
     "data": {
      "text/html": [
       "<div>\n",
       "<style>\n",
       "    .dataframe thead tr:only-child th {\n",
       "        text-align: right;\n",
       "    }\n",
       "\n",
       "    .dataframe thead th {\n",
       "        text-align: left;\n",
       "    }\n",
       "\n",
       "    .dataframe tbody tr th {\n",
       "        vertical-align: top;\n",
       "    }\n",
       "</style>\n",
       "<table border=\"1\" class=\"dataframe\">\n",
       "  <thead>\n",
       "    <tr style=\"text-align: right;\">\n",
       "      <th></th>\n",
       "      <th>dec</th>\n",
       "      <th>g</th>\n",
       "      <th>healpix_2048</th>\n",
       "      <th>i</th>\n",
       "      <th>r</th>\n",
       "      <th>ra</th>\n",
       "      <th>redshift</th>\n",
       "      <th>star</th>\n",
       "      <th>u</th>\n",
       "      <th>y</th>\n",
       "      <th>z</th>\n",
       "    </tr>\n",
       "  </thead>\n",
       "  <tbody>\n",
       "    <tr>\n",
       "      <th>0</th>\n",
       "      <td>-28.991806</td>\n",
       "      <td>21.220566</td>\n",
       "      <td>36963071</td>\n",
       "      <td>19.143178</td>\n",
       "      <td>19.968730</td>\n",
       "      <td>55.911601</td>\n",
       "      <td>0.000000</td>\n",
       "      <td>True</td>\n",
       "      <td>23.712136</td>\n",
       "      <td>18.571897</td>\n",
       "      <td>18.753682</td>\n",
       "    </tr>\n",
       "    <tr>\n",
       "      <th>1</th>\n",
       "      <td>-28.977511</td>\n",
       "      <td>26.089855</td>\n",
       "      <td>36963071</td>\n",
       "      <td>23.680101</td>\n",
       "      <td>24.888352</td>\n",
       "      <td>55.900110</td>\n",
       "      <td>0.000000</td>\n",
       "      <td>True</td>\n",
       "      <td>28.623161</td>\n",
       "      <td>22.898489</td>\n",
       "      <td>23.134674</td>\n",
       "    </tr>\n",
       "    <tr>\n",
       "      <th>2</th>\n",
       "      <td>-28.996410</td>\n",
       "      <td>18.707958</td>\n",
       "      <td>36963071</td>\n",
       "      <td>18.405405</td>\n",
       "      <td>18.471620</td>\n",
       "      <td>55.892925</td>\n",
       "      <td>0.000000</td>\n",
       "      <td>True</td>\n",
       "      <td>19.641134</td>\n",
       "      <td>18.413843</td>\n",
       "      <td>18.405028</td>\n",
       "    </tr>\n",
       "    <tr>\n",
       "      <th>3</th>\n",
       "      <td>-28.984325</td>\n",
       "      <td>18.958377</td>\n",
       "      <td>36963071</td>\n",
       "      <td>18.054779</td>\n",
       "      <td>18.301951</td>\n",
       "      <td>55.902400</td>\n",
       "      <td>0.000000</td>\n",
       "      <td>True</td>\n",
       "      <td>20.698326</td>\n",
       "      <td>17.906033</td>\n",
       "      <td>17.958187</td>\n",
       "    </tr>\n",
       "    <tr>\n",
       "      <th>4</th>\n",
       "      <td>-28.978697</td>\n",
       "      <td>25.940937</td>\n",
       "      <td>36963071</td>\n",
       "      <td>24.704194</td>\n",
       "      <td>25.328733</td>\n",
       "      <td>55.892868</td>\n",
       "      <td>0.669735</td>\n",
       "      <td>False</td>\n",
       "      <td>26.093231</td>\n",
       "      <td>24.565313</td>\n",
       "      <td>24.636821</td>\n",
       "    </tr>\n",
       "  </tbody>\n",
       "</table>\n",
       "</div>"
      ],
      "text/plain": [
       "         dec          g  healpix_2048          i          r         ra  \\\n",
       "0 -28.991806  21.220566      36963071  19.143178  19.968730  55.911601   \n",
       "1 -28.977511  26.089855      36963071  23.680101  24.888352  55.900110   \n",
       "2 -28.996410  18.707958      36963071  18.405405  18.471620  55.892925   \n",
       "3 -28.984325  18.958377      36963071  18.054779  18.301951  55.902400   \n",
       "4 -28.978697  25.940937      36963071  24.704194  25.328733  55.892868   \n",
       "\n",
       "   redshift   star          u          y          z  \n",
       "0  0.000000   True  23.712136  18.571897  18.753682  \n",
       "1  0.000000   True  28.623161  22.898489  23.134674  \n",
       "2  0.000000   True  19.641134  18.413843  18.405028  \n",
       "3  0.000000   True  20.698326  17.906033  17.958187  \n",
       "4  0.669735  False  26.093231  24.565313  24.636821  "
      ]
     },
     "execution_count": 34,
     "metadata": {},
     "output_type": "execute_result"
    }
   ],
   "source": [
    "X.head()"
   ]
  },
  {
   "cell_type": "code",
   "execution_count": 35,
   "metadata": {},
   "outputs": [
    {
     "data": {
      "text/plain": [
       "array([[ -2.89918068e+01,   1.42506450e-01,  -2.00236693e-01, ...,\n",
       "          1.00000000e+00,   2.16556592e+03,   1.00000000e+00],\n",
       "       [ -2.89775100e+01,   9.99900000e+03,   9.99900000e+03, ...,\n",
       "          1.00000000e+00,   3.48443832e+01,   0.00000000e+00],\n",
       "       [ -2.89964111e+01,   8.12991560e-02,  -5.42564951e-02, ...,\n",
       "          1.00000000e+00,   2.85504183e+03,   1.00000000e+00],\n",
       "       ..., \n",
       "       [ -2.86025925e+01,  -1.66984871e-01,   3.31460595e-01, ...,\n",
       "          0.00000000e+00,   1.39631819e+01,   0.00000000e+00],\n",
       "       [ -2.86054862e+01,   5.05184233e-01,  -5.83355725e-01, ...,\n",
       "          1.33066744e-01,   4.78860029e+01,   0.00000000e+00],\n",
       "       [ -2.86021297e+01,   9.99900000e+03,   9.99900000e+03, ...,\n",
       "          1.00000000e+00,   1.48146614e+01,   1.00000000e+00]])"
      ]
     },
     "execution_count": 35,
     "metadata": {},
     "output_type": "execute_result"
    }
   ],
   "source": [
    "y.values"
   ]
  },
  {
   "cell_type": "markdown",
   "metadata": {},
   "source": [
    "The `Emulator` object contains these data structures as well - so you can just pickle your emulator for future re-use."
   ]
  },
  {
   "cell_type": "code",
   "execution_count": 36,
   "metadata": {},
   "outputs": [
    {
     "name": "stdout",
     "output_type": "stream",
     "text": [
      "derp.Emulator, containing 21246-object training set to support prediction of 11 DRP object attributes given 24 input (true) object attributes.\n"
     ]
    }
   ],
   "source": [
    "print(emulator)"
   ]
  },
  {
   "cell_type": "code",
   "execution_count": 37,
   "metadata": {},
   "outputs": [
    {
     "name": "stdout",
     "output_type": "stream",
     "text": [
      "(21246, 11) (21246, 24)\n"
     ]
    }
   ],
   "source": [
    "print(emulator.X.shape, emulator.y.shape)"
   ]
  },
  {
   "cell_type": "code",
   "execution_count": 38,
   "metadata": {},
   "outputs": [],
   "source": [
    "import pickle\n",
    "\n",
    "picklefile = \"run1.1p.pkl\""
   ]
  },
  {
   "cell_type": "code",
   "execution_count": 39,
   "metadata": {},
   "outputs": [
    {
     "name": "stdout",
     "output_type": "stream",
     "text": [
      "CPU times: user 6.48 ms, sys: 1.13 ms, total: 7.61 ms\n",
      "Wall time: 13.6 ms\n"
     ]
    }
   ],
   "source": [
    "%%time\n",
    "pickle.dump(emulator, open(picklefile, \"wb\"))"
   ]
  },
  {
   "cell_type": "code",
   "execution_count": 40,
   "metadata": {},
   "outputs": [
    {
     "name": "stdout",
     "output_type": "stream",
     "text": [
      "5.7M\trun1.1p.pkl\n"
     ]
    }
   ],
   "source": [
    "! du -h $picklefile"
   ]
  },
  {
   "cell_type": "code",
   "execution_count": 41,
   "metadata": {},
   "outputs": [
    {
     "name": "stdout",
     "output_type": "stream",
     "text": [
      "The emulator has been deleted.\n"
     ]
    }
   ],
   "source": [
    "del emulator\n",
    "\n",
    "try:\n",
    "    print(emulator)\n",
    "except:\n",
    "    print(\"The emulator has been deleted.\")"
   ]
  },
  {
   "cell_type": "code",
   "execution_count": 42,
   "metadata": {},
   "outputs": [
    {
     "name": "stdout",
     "output_type": "stream",
     "text": [
      "CPU times: user 232 µs, sys: 10.3 ms, total: 10.5 ms\n",
      "Wall time: 9.6 ms\n"
     ]
    }
   ],
   "source": [
    "%%time\n",
    "emulator = pickle.load(open(picklefile, \"rb\"))"
   ]
  },
  {
   "cell_type": "code",
   "execution_count": 43,
   "metadata": {},
   "outputs": [
    {
     "name": "stdout",
     "output_type": "stream",
     "text": [
      "derp.Emulator, containing 21246-object training set to support prediction of 11 DRP object attributes given 24 input (true) object attributes.\n"
     ]
    }
   ],
   "source": [
    "try:\n",
    "    print(emulator)\n",
    "except:\n",
    "    print(\"The emulator has been deleted.\")"
   ]
  },
  {
   "cell_type": "markdown",
   "metadata": {},
   "source": [
    "To read the API documentation for the `derp.Emulator`, you can use the jupyter `help` function."
   ]
  },
  {
   "cell_type": "code",
   "execution_count": 44,
   "metadata": {},
   "outputs": [],
   "source": [
    "# help(emulator)"
   ]
  }
 ],
 "metadata": {
  "kernelspec": {
   "display_name": "desc-python",
   "language": "python",
   "name": "desc-python"
  },
  "language_info": {
   "codemirror_mode": {
    "name": "ipython",
    "version": 3
   },
   "file_extension": ".py",
   "mimetype": "text/x-python",
   "name": "python",
   "nbconvert_exporter": "python",
   "pygments_lexer": "ipython3",
   "version": "3.6.2"
  },
  "toc-autonumbering": false
 },
 "nbformat": 4,
 "nbformat_minor": 2
}
