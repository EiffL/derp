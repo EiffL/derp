{
 "cells": [
  {
   "cell_type": "markdown",
   "metadata": {},
   "source": [
    "# Preparing to Train on DC2 Run 1.1p Data\n",
    "\n",
    "**Owner:** Phil Marshall (@drphilmarshall)\n",
    "\n",
    "**Last Run:** 2018-10-24 (by @drphilmarshall)\n",
    "\n",
    "**Goals:** Use the DC2 Run 1.1p truth catalog, and DRP Object table, to construct a design matrix `X` (from the truth table) and corresponding response variables `y` (from the DRP Object table).\n",
    "\n",
    "**Notes:** This notebook was made by adapting the following notebooks:\n",
    "* Scott Daniel's DC2 Tutorial [`truth_gcr_intro.ipynb`](https://github.com/LSSTDESC/DC2-analysis/blob/master/tutorials/truth_gcr_intro.ipynb)\n",
    "* ...\n",
    "\n",
    "To run this notebook, follow the instructions to setup Jupyter-dev at NERSC: https://confluence.slac.stanford.edu/x/1_ubDQ"
   ]
  },
  {
   "cell_type": "markdown",
   "metadata": {},
   "source": [
    "## Setup"
   ]
  },
  {
   "cell_type": "code",
   "execution_count": null,
   "metadata": {},
   "outputs": [],
   "source": [
    "# import packages and methods that will be used in this notebook\n",
    "\n",
    "import healpy\n",
    "import numpy as np\n",
    "import GCRCatalogs\n",
    "from astropy.coordinates import SkyCoord\n",
    "import matplotlib\n",
    "%matplotlib inline\n",
    "import matplotlib.pyplot as plt"
   ]
  },
  {
   "cell_type": "markdown",
   "metadata": {},
   "source": [
    "## Loading the Input Truth"
   ]
  },
  {
   "cell_type": "code",
   "execution_count": null,
   "metadata": {},
   "outputs": [],
   "source": [
    "truth_catalog = GCRCatalogs.load_catalog('dc2_truth_run1.1_static')"
   ]
  },
  {
   "cell_type": "markdown",
   "metadata": {},
   "source": [
    "You can list the quantities contained in the catalog using the same API as any other GCR-based catalog."
   ]
  },
  {
   "cell_type": "code",
   "execution_count": null,
   "metadata": {},
   "outputs": [],
   "source": [
    "all = truth_catalog.list_all_quantities(include_native=True)\n",
    "all"
   ]
  },
  {
   "cell_type": "markdown",
   "metadata": {},
   "source": [
    "The `get_quantity_info` method will give you access to descriptions of all of the native quantities in the catalog.  Note that the quantities `ugrizy` map directly to `mag_true_[ugrizy]'."
   ]
  },
  {
   "cell_type": "code",
   "execution_count": null,
   "metadata": {},
   "outputs": [],
   "source": [
    "for qty in all:\n",
    "    info_dict = truth_catalog.get_quantity_info(qty)\n",
    "    print(qty,info_dict)"
   ]
  },
  {
   "cell_type": "markdown",
   "metadata": {},
   "source": [
    "We'll want to keep our training and test set small while developing, but then increase its size later. A good option for selecting a subset of objects is to filter by sky position, either relative to some reference point, or using the healpixellation.\n",
    "\n",
    "In the cells below, we will query the catalog for all of the bright stars and galaxies in a 0.2 degree disc centered on `RA=54.6`, `Dec=-28.0`.\n",
    "\n",
    "In the next cell, will define some methods (`filter_on_healpix` and `filter_on_dist`) needed to make that selection.  These methods will be passed into the catalog's `get_quantities` method with the `filters` kwarg.  The methods should accept numpy arrays and return a numpy array of booleans indicating whether or not each object in the input arrays passed the test.\n",
    "\n",
    "We will use `healpy`'s `query_disc` method to find which healpixels overlap our region of interest."
   ]
  },
  {
   "cell_type": "code",
   "execution_count": null,
   "metadata": {},
   "outputs": [],
   "source": [
    "center_ra = 54.6\n",
    "center_dec = -28.0\n",
    "radius = 0.2\n",
    "\n",
    "center_ra_rad = np.radians(center_ra)\n",
    "center_dec_rad = np.radians(center_dec)\n",
    "\n",
    "center_vec = np.array([np.cos(center_dec_rad)*np.cos(center_ra_rad),\n",
    "                       np.cos(center_dec_rad)*np.sin(center_ra_rad),\n",
    "                       np.sin(center_dec_rad)])\n",
    "\n",
    "list_of_healpix = healpy.query_disc(2048, center_vec, np.radians(radius), nest=True, inclusive=True)\n",
    "\n",
    "def filter_on_healpix(hp):\n",
    "    return np.array([hh in list_of_healpix for hh in hp])\n",
    "\n",
    "def angularSeparation(ra, dec, center_ra, center_dec):\n",
    "    return SkyCoord(ra, dec, unit='deg').separation(SkyCoord(center_ra, center_dec, unit='deg')).deg\n",
    "\n",
    "def filter_on_dist(ra, dec):\n",
    "    return angularSeparation(ra, dec, center_ra, center_dec) < radius"
   ]
  },
  {
   "cell_type": "markdown",
   "metadata": {},
   "source": [
    "Now we let's query the catalog for all objects in the region of interest with magnitude `r<27.0`.  This query functions like any other GRC-based catalog query with one exception.  The truth catalog is ultimately stored as a sqlite database.  This means that all `native_filters` (filters applied directly to the catalog's native quantities), should be phrased as strings which could be inserted into an SQL `WHERE` clause.  Because the `native_filters` are applied when the quantities loaded into memory (as opposed to `filters`, which are applied after the quantities have been loaded), we want these to be as restrictive as possible so as to limit the memory consumption of the loaded catalog.  The sqlite databases are indexed on `star`, `agn`, `sprinkled`, `healpix_2048` and `object_id`.\n",
    "\n",
    "**Note:** We are aware that `nside==2048` healpixels may be too fine a resolution to helpfully limit the catalog query.  We are open to the idea of using a coarser resolution in future truth catalogs.\n",
    "\n",
    "After the coarse spatial limits applied by the `native_filter` on `healpix_2048`, we use the `filter_on_healpix` and `filter_on_dist` methods to actually get sources in our region of interest."
   ]
  },
  {
   "cell_type": "code",
   "execution_count": null,
   "metadata": {},
   "outputs": [],
   "source": [
    "true_objects = truth_catalog.get_quantities(all,\n",
    "                                            native_filters=['r<27.0',\n",
    "                                                            'healpix_2048<=%d' % list_of_healpix.max(),\n",
    "                                                            'healpix_2048>=%d' % list_of_healpix.min()],\n",
    "                                            filters=[(filter_on_healpix, 'healpix_2048'),\n",
    "                                                     (filter_on_dist, 'ra', 'dec')])"
   ]
  },
  {
   "cell_type": "code",
   "execution_count": null,
   "metadata": {},
   "outputs": [],
   "source": [
    "print(len(true_objects['ra']))"
   ]
  },
  {
   "cell_type": "code",
   "execution_count": null,
   "metadata": {},
   "outputs": [],
   "source": [
    "plt.scatter(true_objects['ra'], true_objects['dec'], alpha=0.01);"
   ]
  },
  {
   "cell_type": "markdown",
   "metadata": {},
   "source": [
    "Now we will perform a similar spatial query for objects which were not added by the sprinkler (`sprinkled==0`) with magnitudes `r<27`.\n",
    "\n",
    "***Note:** \"the sprinkler\" is a piece of code used to add an extra population of AGN and supernovae into the Utral Deep Drilling Field of DC2.  Objects added by the sprinkler will have no counterpart in the underlying protoDC2 extragalactic catalog, which is why we have added a `sprinkled` flag to the catalog."
   ]
  },
  {
   "cell_type": "code",
   "execution_count": null,
   "metadata": {},
   "outputs": [],
   "source": [
    "unsprinkled_true_objects = truth_catalog.get_quantities(all,\n",
    "                                                           native_filters=['sprinkled==0',\n",
    "                                                                           'r<27.0',\n",
    "                                                                           'healpix_2048<=%d' % list_of_healpix.max(),\n",
    "                                                                           'healpix_2048>=%d' % list_of_healpix.min()],\n",
    "                                                           filters=[(filter_on_healpix, 'healpix_2048'),\n",
    "                                                                    (filter_on_dist, 'ra', 'dec')])"
   ]
  },
  {
   "cell_type": "code",
   "execution_count": null,
   "metadata": {},
   "outputs": [],
   "source": [
    "print(len(unsprinkled_true_objects['ra']))"
   ]
  },
  {
   "cell_type": "markdown",
   "metadata": {},
   "source": [
    "## Finding the Matching LSST Objects\n",
    "\n",
    "Now we need to load in a DRP Object table, and match its contents (spatially) to the input truth objects."
   ]
  },
  {
   "cell_type": "markdown",
   "metadata": {},
   "source": [
    "## Formatting into `X` and `y`\n",
    "\n",
    "Now that we have a set of matched objects, we can reformat them into a design matrix `X` and the corresponding response variables `y`. We'll make these as simple `numpy` arrays."
   ]
  }
 ],
 "metadata": {
  "kernelspec": {
   "display_name": "desc-python",
   "language": "python",
   "name": "desc-python"
  },
  "language_info": {
   "codemirror_mode": {
    "name": "ipython",
    "version": 3
   },
   "file_extension": ".py",
   "mimetype": "text/x-python",
   "name": "python",
   "nbconvert_exporter": "python",
   "pygments_lexer": "ipython3",
   "version": "3.6.2"
  },
  "toc-autonumbering": false
 },
 "nbformat": 4,
 "nbformat_minor": 2
}
